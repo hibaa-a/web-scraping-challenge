{
 "cells": [
  {
   "cell_type": "code",
   "execution_count": 16,
   "metadata": {},
   "outputs": [],
   "source": [
    "# importing dependencies\n",
    "from bs4 import BeautifulSoup as bs\n",
    "import pandas as pd\n",
    "from webdriver_manager.chrome import ChromeDriverManager\n",
    "from splinter import Browser"
   ]
  },
  {
   "cell_type": "code",
   "execution_count": 17,
   "metadata": {},
   "outputs": [
    {
     "name": "stderr",
     "output_type": "stream",
     "text": [
      "[WDM] - Downloading: 100%|██████████| 6.46M/6.46M [00:01<00:00, 3.49MB/s]\n"
     ]
    }
   ],
   "source": [
    "# setting up splinter\n",
    "executable_path = {'executable_path': ChromeDriverManager().install()}\n",
    "browser = Browser('chrome', **executable_path, headless=False)"
   ]
  },
  {
   "cell_type": "code",
   "execution_count": 18,
   "metadata": {},
   "outputs": [],
   "source": [
    "# website URL\n",
    "url = 'https://redplanetscience.com/'\n",
    "browser.visit(url)\n"
   ]
  },
  {
   "cell_type": "code",
   "execution_count": 19,
   "metadata": {},
   "outputs": [],
   "source": [
    "# scraping page into bs\n",
    "html = browser.html\n",
    "soup = bs(html, 'html.parser')"
   ]
  },
  {
   "cell_type": "code",
   "execution_count": 62,
   "metadata": {},
   "outputs": [],
   "source": [
    "# examining results\n",
    "results = soup.find_all('div', class_='list_text')"
   ]
  },
  {
   "cell_type": "code",
   "execution_count": 60,
   "metadata": {},
   "outputs": [
    {
     "name": "stdout",
     "output_type": "stream",
     "text": [
      "-------------\n",
      "headline: Curiosity Mars Rover's Summer Road Trip Has Begun\n",
      "preview: After more than a year in the \"clay-bearing unit,\" Curiosity is making a mile-long journey around some deep sand so that it can explore higher up Mount Sharp.\n",
      "-------------\n",
      "-------------\n",
      "headline: NASA's InSight Flexes Its Arm While Its 'Mole' Hits Pause\n",
      "preview: Now that the lander's robotic arm has helped the mole get underground, it will resume science activities that have been on hold.\n",
      "-------------\n",
      "-------------\n",
      "headline: NASA-JPL Names 'Rolling Stones Rock' on Mars\n",
      "preview: NASA's Mars InSight mission honored one of the biggest bands of all time at Pasadena concert.\n",
      "-------------\n",
      "-------------\n",
      "headline: NASA Prepares for Moon and Mars With New Addition to Its Deep Space Network\n",
      "preview: Robotic spacecraft will be able to communicate with the dish using radio waves and lasers.\n",
      "-------------\n",
      "-------------\n",
      "headline: NASA's Mars 2020 Will Hunt for Microscopic Fossils\n",
      "preview: A new paper identifies a ring of minerals at the rover's landing site that are ideal for fossilizing microbial life.\n",
      "-------------\n",
      "-------------\n",
      "headline: NASA Administrator Statement on Moon to Mars Initiative, FY 2021 Budget\n",
      "preview: Jim Bridenstine addresses NASA's ambitious plans for the coming years, including Mars Sample Return.\n",
      "-------------\n",
      "-------------\n",
      "headline: NASA's MAVEN Observes Martian Night Sky Pulsing in Ultraviolet Light\n",
      "preview: Vast areas of the Martian night sky pulse in ultraviolet light, according to images from NASA’s MAVEN spacecraft. The results are being used to illuminate complex circulation patterns in the Martian atmosphere.\n",
      "-------------\n",
      "-------------\n",
      "headline: NASA Mars Mission Connects With Bosnian and Herzegovinian Town\n",
      "preview: A letter from NASA was presented to the mayor of Jezero, Bosnia-Herzegovina, honoring the connection between the town and Jezero Crater, the Mars 2020 rover landing site.\n",
      "-------------\n",
      "-------------\n",
      "headline: NASA's InSight 'Hears' Peculiar Sounds on Mars\n",
      "preview: Listen to the marsquakes and other, less-expected sounds that the Mars lander has been detecting.\n",
      "-------------\n",
      "-------------\n",
      "headline: The Extraordinary Sample-Gathering System of NASA's Perseverance Mars Rover\n",
      "preview: Two astronauts collected Moon rocks on Apollo 11. It will take three robotic systems working together to gather up the first Mars rock samples for return to Earth.\n",
      "-------------\n",
      "-------------\n",
      "headline: NASA's Mars 2020 Rover Goes Coast-to-Coast to Prep for Launch\n",
      "preview: The agency's first step in returning rocks from Mars just arrived at Kennedy Space Center. The Mars 2020 team now begins readying for a launch to the Red Planet this July.\n",
      "-------------\n",
      "-------------\n",
      "headline: NASA's Mars 2020 Rover Closer to Getting Its Name\n",
      "preview: 155 students from across the U.S. have been chosen as semifinalists in NASA's essay contest to name the Mars 2020 rover, and see it launch from Cape Canaveral this July.\n",
      "-------------\n",
      "-------------\n",
      "headline: Mars 2020 Unwrapped and Ready for More Testing\n",
      "preview: In time-lapse video, bunny-suited engineers remove the inner layer of protective foil on NASA's Mars 2020 rover after it was relocated for testing.\n",
      "-------------\n",
      "-------------\n",
      "headline: Independent Review Indicates NASA Prepared for Mars Sample Return Campaign\n",
      "preview: NASA released an independent review report Tuesday indicating the agency is well positioned for its Mars Sample Return campaign to bring pristine samples from Mars to Earth for scientific study.\n",
      "-------------\n",
      "-------------\n",
      "headline: NASA Adds Return Sample Scientists to Mars 2020 Leadership Team\n",
      "preview: The leadership council for Mars 2020 science added two new members who represent the interests of scientists destined to handle and study the first samples from Red Planet.\n",
      "-------------\n"
     ]
    }
   ],
   "source": [
    "headlinelist = []\n",
    "previewlist = []\n",
    "\n",
    "# looping through returned lists\n",
    "for result in results:\n",
    "\n",
    "    # getting titles\n",
    "    headlines = result.find('div', class_='content_title').text\n",
    "    # getting preview texts\n",
    "    previewtexts = result.find('div', class_='article_teaser_body').text\n",
    "\n",
    "    headlinelist.append(headlines)\n",
    "    previewlist.append(previewtexts)\n",
    "\n",
    "    print('-------------')\n",
    "    print('headline: ' + str(headlines))\n",
    "    print('preview: ' + str(previewtexts))\n",
    "    print('-------------')\n",
    "\n"
   ]
  },
  {
   "cell_type": "code",
   "execution_count": 61,
   "metadata": {},
   "outputs": [],
   "source": [
    "# closing browser\n",
    "browser.quit()"
   ]
  },
  {
   "cell_type": "code",
   "execution_count": null,
   "metadata": {},
   "outputs": [],
   "source": []
  }
 ],
 "metadata": {
  "kernelspec": {
   "display_name": "Python 3.9.12 ('base')",
   "language": "python",
   "name": "python3"
  },
  "language_info": {
   "codemirror_mode": {
    "name": "ipython",
    "version": 3
   },
   "file_extension": ".py",
   "mimetype": "text/x-python",
   "name": "python",
   "nbconvert_exporter": "python",
   "pygments_lexer": "ipython3",
   "version": "3.9.12"
  },
  "orig_nbformat": 4,
  "vscode": {
   "interpreter": {
    "hash": "e4c48b16a0c354d25ba2bae82838f8d23da4e013cfb39b75ab3692a369ac6069"
   }
  }
 },
 "nbformat": 4,
 "nbformat_minor": 2
}
